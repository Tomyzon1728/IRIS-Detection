{
 "cells": [
  {
   "cell_type": "code",
   "execution_count": null,
   "metadata": {},
   "outputs": [],
   "source": [
    "'''\n",
    "IRIS DATASET\n",
    "'''\n",
    "\n",
    "# required libraries\n",
    "import pandas as pd\n",
    "from sklearn.linear_model import LogisticRegression\n",
    "from sklearn.model_selection import train_test_split\n",
    "from sklearn.preprocessing import LabelEncoder\n",
    "from sklearn.metrics import accuracy_score\n",
    "\n",
    "\n",
    "# read the dataset\n",
    "data = pd.read_csv('Iris.csv')\n",
    "print(data.head())\n",
    "\n",
    "print('\\n\\nColumn Names\\n\\n')\n",
    "print(data.columns)\n",
    "\n",
    "#label encode the target variable\n",
    "encode = LabelEncoder()\n",
    "data.Species = encode.fit_transform(data.Species)\n",
    "\n",
    "print(data.head())\n",
    "\n",
    "# train-test-split   \n",
    "train , test = train_test_split(data,test_size=0.2,random_state=0)\n",
    "\n",
    "print('shape of training data : ',train.shape)\n",
    "print('shape of testing data',test.shape)\n",
    "\n",
    "# seperate the target and independent variable\n",
    "train_x = train.drop(columns=['Species'],axis=1)\n",
    "train_y = train['Species']\n",
    "\n",
    "test_x = test.drop(columns=['Species'],axis=1)\n",
    "test_y = test['Species']\n",
    "\n",
    "# create the object of the model\n",
    "model = LogisticRegression()\n",
    "\n",
    "model.fit(train_x,train_y)\n",
    "\n",
    "predict = model.predict(test_x)\n",
    "\n",
    "print('Predicted Values on Test Data',encode.inverse_transform(predict))\n",
    "\n",
    "print('\\n\\nAccuracy Score on test data : \\n\\n')\n",
    "print(accuracy_score(test_y,predict))\n"
   ]
  }
 ],
 "metadata": {
  "kernelspec": {
   "display_name": "Python 3",
   "language": "python",
   "name": "python3"
  },
  "language_info": {
   "codemirror_mode": {
    "name": "ipython",
    "version": 3
   },
   "file_extension": ".py",
   "mimetype": "text/x-python",
   "name": "python",
   "nbconvert_exporter": "python",
   "pygments_lexer": "ipython3",
   "version": "3.8.3"
  }
 },
 "nbformat": 4,
 "nbformat_minor": 4
}
